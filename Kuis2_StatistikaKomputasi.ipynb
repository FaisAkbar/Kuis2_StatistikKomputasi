{
  "nbformat": 4,
  "nbformat_minor": 0,
  "metadata": {
    "colab": {
      "provenance": [],
      "authorship_tag": "ABX9TyNO6KdlxoRfcpi49qbnprM3",
      "include_colab_link": true
    },
    "kernelspec": {
      "name": "python3",
      "display_name": "Python 3"
    },
    "language_info": {
      "name": "python"
    }
  },
  "cells": [
    {
      "cell_type": "markdown",
      "metadata": {
        "id": "view-in-github",
        "colab_type": "text"
      },
      "source": [
        "<a href=\"https://colab.research.google.com/github/FaisAkbar/Kuis2_StatistikKomputasi/blob/main/Kuis2_StatistikaKomputasi.ipynb\" target=\"_parent\"><img src=\"https://colab.research.google.com/assets/colab-badge.svg\" alt=\"Open In Colab\"/></a>"
      ]
    },
    {
      "cell_type": "markdown",
      "source": [
        "### Kuis 2 STATISTIK KOMPUTASI\n",
        "### Nama : Fawaa'el Akbar Firdaus\n",
        "### No : 13\n",
        "### NIM : 2141720215\n",
        "### Github : "
      ],
      "metadata": {
        "id": "TYVBOvAcl4Wn"
      }
    },
    {
      "cell_type": "markdown",
      "source": [
        "## No 1"
      ],
      "metadata": {
        "id": "SbD_meXssyBq"
      }
    },
    {
      "cell_type": "code",
      "execution_count": 43,
      "metadata": {
        "colab": {
          "base_uri": "https://localhost:8080/"
        },
        "id": "6f0EVX7DlosQ",
        "outputId": "a8606204-8106-494c-f80a-a6ab909841d5"
      },
      "outputs": [
        {
          "output_type": "stream",
          "name": "stdout",
          "text": [
            "Peluang bahwa 100 pria akan memiliki kolesterol di bawah 204 mg/dL adalah  0.9772498680518208  atau  97.72 %\n"
          ]
        }
      ],
      "source": [
        "from scipy.stats import norm\n",
        "\n",
        "mean = 200  # rata-rata\n",
        "std_dev = 20  # simpangan baku\n",
        "x = 204  # nilai batas kolesterol\n",
        "n = 100  # jumlah pria\n",
        "\n",
        "# Menghitung z-score (standar skor)\n",
        "z = (x - mean) / (std_dev / (n**0.5))\n",
        "\n",
        "# Menghitung peluang menggunakan distribusi normal kumulatif\n",
        "probability = norm.cdf(z)\n",
        "\n",
        "# Menampilkan hasil\n",
        "print (\"Peluang bahwa 100 pria akan memiliki kolesterol di bawah 204 mg/dL adalah \",probability,\" atau \",round(probability * 100,2),\"%\")"
      ]
    },
    {
      "cell_type": "markdown",
      "source": [
        "## No 2"
      ],
      "metadata": {
        "id": "MDWVEnU0s2vP"
      }
    },
    {
      "cell_type": "code",
      "source": [
        "import scipy.stats as stats\n",
        "import math\n",
        "\n",
        "n = 25\n",
        "mean = 15\n",
        "variance = 16\n",
        "confidence_level = 0.95\n",
        "\n",
        "standard_error = math.sqrt(variance) / math.sqrt(n)\n",
        "z_score = abs(stats.norm.ppf((1 - confidence_level) / 2))\n",
        "\n",
        "lower_bound = mean - z_score * standard_error\n",
        "upper_bound = mean + z_score * standard_error\n",
        "\n",
        "print(\"Rentang nilai rata-rata populasi dari tinggi tanaman tersebut dengan tingkat kepercayaan 95% adalah:\", (lower_bound, upper_bound))"
      ],
      "metadata": {
        "colab": {
          "base_uri": "https://localhost:8080/"
        },
        "id": "cIdii_-Ds6TQ",
        "outputId": "01feca8e-0f5e-4c13-e8cf-b47769744ea7"
      },
      "execution_count": 44,
      "outputs": [
        {
          "output_type": "stream",
          "name": "stdout",
          "text": [
            "Rentang nilai rata-rata populasi dari tinggi tanaman tersebut dengan tingkat kepercayaan 95% adalah: (13.432028812367957, 16.567971187632043)\n"
          ]
        }
      ]
    },
    {
      "cell_type": "markdown",
      "source": [
        "## No 3"
      ],
      "metadata": {
        "id": "86Bn9_v25xER"
      }
    },
    {
      "cell_type": "code",
      "source": [
        "import pandas as pd\n",
        "\n",
        "print(\"Jawaban 3(a)\")\n",
        "# membaca file excel\n",
        "df = pd.read_excel('no3.xlsx')\n",
        "\n",
        "# menentukan simpangan baku dari kolom tertentu\n",
        "simpangan_baku = df['Dengantool'].std()\n",
        "\n",
        "print(simpangan_baku)"
      ],
      "metadata": {
        "colab": {
          "base_uri": "https://localhost:8080/"
        },
        "id": "WhKvlj2t5ztI",
        "outputId": "38f623af-d483-441c-c1df-5bf7589da606"
      },
      "execution_count": 45,
      "outputs": [
        {
          "output_type": "stream",
          "name": "stdout",
          "text": [
            "Jawaban 3(a)\n",
            "1.9315199276138029\n"
          ]
        }
      ]
    },
    {
      "cell_type": "code",
      "source": [
        "import pandas as pd\n",
        "\n",
        "print(\"Jawaban 3(b)\")\n",
        "# membaca file excel\n",
        "df = pd.read_excel('no3.xlsx')\n",
        "\n",
        "# menentukan simpangan baku dari kolom tertentu\n",
        "simpangan_baku = df['Tanpatool'].std()\n",
        "\n",
        "print(simpangan_baku)"
      ],
      "metadata": {
        "colab": {
          "base_uri": "https://localhost:8080/"
        },
        "id": "nAIzvE-E7OCX",
        "outputId": "9874ef19-f266-47cd-aee5-d650c7f2b808"
      },
      "execution_count": 46,
      "outputs": [
        {
          "output_type": "stream",
          "name": "stdout",
          "text": [
            "Jawaban 3(b)\n",
            "1.931519927613803\n"
          ]
        }
      ]
    },
    {
      "cell_type": "code",
      "source": [
        "import pandas as pd\n",
        "from scipy.stats import f_oneway\n",
        "\n",
        "print(\"Jawaban 3(c)\")\n",
        "\n",
        "data = pd.read_excel('no3.xlsx')\n",
        "Dengantool = data['Dengantool']\n",
        "Tanpatool = data['Tanpatool']\n",
        "\n",
        "stat, p = f_oneway(Dengantool, Tanpatool)\n",
        "\n",
        "print('stat=%.3f, p=%.3f' % (stat, p))\n",
        "if p > 0.05:\n",
        "    print('Homogen')\n",
        "else:\n",
        "    print('Bukan Homogen')"
      ],
      "metadata": {
        "colab": {
          "base_uri": "https://localhost:8080/"
        },
        "id": "PkiNPtKq_aai",
        "outputId": "7de412e4-1670-4690-e69b-46175e3c74f4"
      },
      "execution_count": 47,
      "outputs": [
        {
          "output_type": "stream",
          "name": "stdout",
          "text": [
            "Jawaban 3(c)\n",
            "stat=43.557, p=0.000\n",
            "Bukan Homogen\n"
          ]
        }
      ]
    }
  ]
}